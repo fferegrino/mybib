{
 "cells": [
  {
   "cell_type": "code",
   "execution_count": 1,
   "metadata": {},
   "outputs": [],
   "source": [
    "import bibtexparser\n",
    "from bibtexparser.bparser import BibTexParser\n",
    "from bibtexparser.customization import *\n",
    "from mybib.cypher import entry_to_node, link_papers\n",
    "\n",
    "# Let's define a function to customize our entries.\n",
    "# It takes a record and return this record.\n",
    "def customizations(record):\n",
    "    \"\"\"Use some functions delivered by the library\n",
    "\n",
    "    :param record: a record\n",
    "    :returns: -- customized record\n",
    "    \"\"\"\n",
    "    record = type(record)\n",
    "    record = author(record)\n",
    "    record = editor(record)\n",
    "    record = journal(record)\n",
    "    record = keyword(record)\n",
    "    record = link(record)\n",
    "    record = page_double_hyphen(record)\n",
    "    record = doi(record)\n",
    "    return record"
   ]
  },
  {
   "cell_type": "code",
   "execution_count": 8,
   "metadata": {},
   "outputs": [],
   "source": [
    "bibtext = \"\"\"@article{Ghani:2006:TMP:1147234.1147241,\n",
    " author = {Ghani, Rayid and Probst, Katharina and Liu, Yan and Krema, Marko and Fano, Andrew},\n",
    " title = {Text Mining for Product Attribute Extraction},\n",
    " journal = {SIGKDD Explor. Newsl.},\n",
    " issue_date = {June 2006},\n",
    " volume = {8},\n",
    " number = {1},\n",
    " month = {jun},\n",
    " year = {2006},\n",
    " issn = {1931-0145},\n",
    " pages = {41--48},\n",
    " numpages = {8},\n",
    " url = {http://doi.acm.org/10.1145/1147234.1147241},\n",
    " doi = {10.1145/1147234.1147241},\n",
    " acmid = {1147241},\n",
    " publisher = {ACM},\n",
    " address = {New York, NY, USA},\n",
    "} \n",
    "\n",
    "@inproceedings{Petrovski:2017:EAP:3106426.3106449,\n",
    " author = {Petrovski, Petar and Bizer, Christian},\n",
    " title = {Extracting Attribute-value Pairs from Product Specifications on the Web},\n",
    " booktitle = {Proceedings of the International Conference on Web Intelligence},\n",
    " series = {WI '17},\n",
    " year = {2017},\n",
    " isbn = {978-1-4503-4951-2},\n",
    " location = {Leipzig, Germany},\n",
    " pages = {558--565},\n",
    " numpages = {8},\n",
    " url = {http://doi.acm.org/10.1145/3106426.3106449},\n",
    " doi = {10.1145/3106426.3106449},\n",
    " acmid = {3106449},\n",
    " publisher = {ACM},\n",
    " address = {New York, NY, USA},\n",
    " keywords = {feature extraction, product data, schema matching, web tables},\n",
    "} \n",
    "\"\"\""
   ]
  },
  {
   "cell_type": "code",
   "execution_count": 9,
   "metadata": {},
   "outputs": [],
   "source": [
    "parser = BibTexParser()\n",
    "parser.customization = customizations\n",
    "bib_database = bibtexparser.loads(bibtext, parser=parser)"
   ]
  },
  {
   "cell_type": "code",
   "execution_count": 10,
   "metadata": {},
   "outputs": [
    {
     "name": "stdout",
     "output_type": "stream",
     "text": [
      "{'address': 'New York, NY, USA', 'publisher': 'ACM', 'acmid': '1147241', 'doi': '10.1145/1147234.1147241', 'url': 'http://doi.acm.org/10.1145/1147234.1147241', 'numpages': '8', 'pages': '41--48', 'issn': '1931-0145', 'year': '2006', 'month': 'jun', 'number': '1', 'volume': '8', 'issue_date': 'June 2006', 'journal': {'name': 'SIGKDD Explor. Newsl.', 'ID': 'SIGKDDExplorNewsl'}, 'title': 'Text Mining for Product Attribute Extraction', 'author': ['Ghani, Rayid', 'Probst, Katharina', 'Liu, Yan', 'Krema, Marko', 'Fano, Andrew'], 'ENTRYTYPE': 'article', 'ID': 'Ghani:2006:TMP:1147234.1147241', 'link': [{'url': 'http://dx.doi.org/10.1145/1147234.1147241', 'anchor': 'doi'}]}\n"
     ]
    }
   ],
   "source": [
    "print(bib_database.entries[0])"
   ]
  },
  {
   "cell_type": "code",
   "execution_count": 12,
   "metadata": {},
   "outputs": [
    {
     "name": "stdout",
     "output_type": "stream",
     "text": [
      "CREATE (:Paper {address:\"New York, NY, USA\", publisher:\"ACM\", acmid:\"1147241\", doi:\"10.1145/1147234.1147241\", url:\"http://doi.acm.org/10.1145/1147234.1147241\", numpages:\"8\", pages:\"41--48\", issn:\"1931-0145\", year:\"2006\", month:\"jun\", number:\"1\", volume:\"8\", issue_date:\"June 2006\", journal:\"{'name': 'SIGKDD Explor. Newsl.', 'ID': 'SIGKDDExplorNewsl'}\", title:\"Text Mining for Product Attribute Extraction\", author:\"['Ghani, Rayid', 'Probst, Katharina', 'Liu, Yan', 'Krema, Marko', 'Fano, Andrew']\", ENTRYTYPE:\"article\", ID:\"Ghani:2006:TMP:1147234.1147241\", link:\"[{'url': 'http://dx.doi.org/10.1145/1147234.1147241', 'anchor': 'doi'}]\"})\n",
      "\n",
      "CREATE (:Paper {keywords:\"feature extraction, product data, schema matching, web tables\", address:\"New York, NY, USA\", publisher:\"ACM\", acmid:\"3106449\", doi:\"10.1145/3106426.3106449\", url:\"http://doi.acm.org/10.1145/3106426.3106449\", numpages:\"8\", pages:\"558--565\", location:\"Leipzig, Germany\", isbn:\"978-1-4503-4951-2\", year:\"2017\", series:\"WI '17\", booktitle:\"Proceedings of the International Conference on Web Intelligence\", title:\"Extracting Attribute-value Pairs from Product Specifications on the Web\", author:\"['Petrovski, Petar', 'Bizer, Christian']\", ENTRYTYPE:\"inproceedings\", ID:\"Petrovski:2017:EAP:3106426.3106449\", link:\"[{'url': 'http://dx.doi.org/10.1145/3106426.3106449', 'anchor': 'doi'}]\"})\n"
     ]
    }
   ],
   "source": [
    "print(entry_to_node(bib_database.entries[0]))\n",
    "print()\n",
    "print(entry_to_node(bib_database.entries[1]))"
   ]
  },
  {
   "cell_type": "code",
   "execution_count": 14,
   "metadata": {},
   "outputs": [
    {
     "data": {
      "text/plain": [
       "'MATCH (citer:Paper{ID:\"Petrovski:2017:EAP:3106426.3106449\"}),(cited:Paper{ID:\"SIGKDDExplorNewsl\"}) CREATE (citer)-[r:CITED{number:15, comment:Cool! }]->(cited) RETURN r'"
      ]
     },
     "execution_count": 14,
     "metadata": {},
     "output_type": "execute_result"
    }
   ],
   "source": [
    "link_papers('Petrovski:2017:EAP:3106426.3106449', 'SIGKDDExplorNewsl', number=15, comment=\"Cool!\")"
   ]
  },
  {
   "cell_type": "code",
   "execution_count": null,
   "metadata": {},
   "outputs": [],
   "source": []
  }
 ],
 "metadata": {
  "kernelspec": {
   "display_name": "Python 3",
   "language": "python",
   "name": "python3"
  },
  "language_info": {
   "codemirror_mode": {
    "name": "ipython",
    "version": 3
   },
   "file_extension": ".py",
   "mimetype": "text/x-python",
   "name": "python",
   "nbconvert_exporter": "python",
   "pygments_lexer": "ipython3",
   "version": "3.7.0"
  }
 },
 "nbformat": 4,
 "nbformat_minor": 1
}
